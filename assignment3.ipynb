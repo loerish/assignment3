{
 "cells": [
  {
   "cell_type": "markdown",
   "id": "eb025f48-d7d8-4825-a928-7b759c469d4e",
   "metadata": {},
   "source": [
    "## Question 1: Calculate the average rating for each movie\r\n",
    "\r\n",
    "We use the `rating_df` DataFrame and group it by `movie_id` to compute the average rating.\r\n",
    "Then, we join the result with `item_df` to retrieve the movie titles.\r\n",
    "Finally, we display the first 10 movies with their average ratings.\r\n",
    "\r\n",
    "### Spark Code:\r\n",
    "\r\n",
    "```python\r\n",
    "avg_rating_df = rating_df.groupBy(\"movie_id\").avg(\"rating\") \\\r\n",
    "    .withColumnRenamed(\"avg(rating)\", \"avg_rating\") \\\r\n",
    "    .orderBy(\"movie_id\")\r\n",
    "\r\n",
    "joined_df = avg_rating_df.join(item_df, on=\"movie_id\")\r\n",
    "joined_df.select(\"movie_id\", \"title\", \"avg_rating\").show(10)\r\n"
   ]
  },
  {
   "cell_type": "markdown",
   "id": "0127acd6-0218-4047-9784-fc7f8cb990c4",
   "metadata": {},
   "source": [
    "\n",
    "![Q1 Result](https://raw.githubusercontent.com/loerish/assignment3/main/images_assignment3/q1_result.png)\n",
    "\n",
    "\r\n",
    "\r\n",
    "\r\n"
   ]
  },
  {
   "cell_type": "markdown",
   "id": "1b513154-90fe-45c2-9c62-3521332f1671",
   "metadata": {},
   "source": [
    "### Question 1 Result Interpretation\n",
    "The result displays the first 10 movies by movie_id with their average viewer ratings. The average scores vary between low (1.0) and moderate (around 3.2), suggesting that these movies received mixed reviews. This aggregation helps understand which movies are better received based on user feedback and sets a foundation for recommendation systems or further analysis."
   ]
  },
  {
   "cell_type": "markdown",
   "id": "797fee9a-08cc-4276-afea-8cb9a6b421f3",
   "metadata": {},
   "source": [
    "## Question 2: Top 10 Movies with the Highest Average Ratings\r\n",
    "\r\n",
    "We extract the top 10 movies with the highest average viewer ratings by sorting the `avg_rating` column in descending order. This helps us identify the most favored movies based on viewer feedback.\r\n",
    "\r\n",
    "### Spark Code:\r\n",
    "```python\r\n",
    "top10_df = joined_df.orderBy(\"avg_rating\", ascending=False)\r\n",
    "top10_df.select(\"movie_id\", \"title\", \"avg_rating\").show(10)\r\n"
   ]
  },
  {
   "cell_type": "markdown",
   "id": "bea8a94a-6d7e-498b-a9b4-0f9ae301b10e",
   "metadata": {},
   "source": [
    "![Q2 Result](https://raw.githubusercontent.com/loerish/assignment3/main/images_assignment3/q2_result.png)\n",
    "\n",
    "\r\n"
   ]
  },
  {
   "cell_type": "markdown",
   "id": "a8564ce3-872a-4b79-962f-69ce7eaa3d0b",
   "metadata": {},
   "source": [
    "### Question 2 Result Interpretation\n",
    "The result shows that all top 10 movies received a perfect average score of 5.0, indicating unanimous approval from the viewers who rated them. These movies likely had fewer but consistently high ratings, showing either niche appeal or high quality. This insight is valuable for identifying standout content within the dataset."
   ]
  },
  {
   "cell_type": "markdown",
   "id": "c0387638-c3aa-42fe-ad84-dfdf69ad1cb0",
   "metadata": {},
   "source": [
    "## Question 3: Join Rating and User Data\r\n",
    "\r\n",
    "We perform a join operation between the `rating_df` and `user_df` on the `user_id` column. This allows us to enrich the rating records with demographic information of the users such as age, gender, occupation, and zip code.\r\n",
    "\r\n",
    "This is essential for analyzing how user characteristics affect movie preferences and enables user-based recommendation analysis.\r\n",
    "\r\n",
    "### Spark Code:\r\n",
    "\r\n",
    "```python\r\n",
    "rating_user_df = rating_df.join(user_df, on=\"user_id\")\r\n",
    "rating_user_df.show(10)\r\n"
   ]
  },
  {
   "cell_type": "markdown",
   "id": "c0fa91e8-32b8-40aa-bf5c-6433984303ab",
   "metadata": {},
   "source": [
    "![Q3 Result](https://raw.githubusercontent.com/loerish/assignment3/main/images_assignment3/q3_result.png)\n",
    "\n",
    "\r\n"
   ]
  },
  {
   "cell_type": "markdown",
   "id": "bfdeef3b-9fb1-4fda-b141-037d58d42654",
   "metadata": {},
   "source": [
    "### Question 3 Result Interpretation\n",
    "The result combines rating and user demographic data. For example, all records shown are from user 148, a 33-year-old male engineer from zip code 97006. This allows us to examine how specific user groups (e.g., by age or occupation) rate movies. It forms the basis for personalized or group-based movie recommendations."
   ]
  },
  {
   "cell_type": "markdown",
   "id": "ecf51514-cbc7-43af-9966-97b7cca47fab",
   "metadata": {},
   "source": [
    "## Question 4: Analyze Rating Trends by Occupation\n",
    "We aim to explore whether users from different occupations exhibit varying rating patterns. This analysis can reveal how professional background may influence movie rating behavior.\n",
    "\n",
    "### Spark Code:\n",
    "occupation_rating_df = rating_user_df.groupBy(\"occupation\").avg(\"rating\")\r\n",
    "occupation_rating_df = occupation_rating_df.withColumnRenamed(\"avg(rating)\", \"avg_rating\")\r\n",
    "occupation_rating_df = occupation_rating_df.orderBy(\"avg_rating\", ascending=False)\r\n",
    "occupation_rating_df.show(10)"
   ]
  },
  {
   "cell_type": "markdown",
   "id": "1348b264-7472-474e-aef9-c611f3064758",
   "metadata": {},
   "source": [
    "![Q4 Result](https://raw.githubusercontent.com/loerish/assignment3/main/images_assignment3/q4_result.png)\n",
    "\n",
    "\r\n"
   ]
  },
  {
   "cell_type": "markdown",
   "id": "eccadb5a-f42f-4d76-b9e3-fa6749b8ddbd",
   "metadata": {},
   "source": [
    "### Question 4 Result Interpretation:\n",
    "The result displays the average movie rating by occupation. Occupations such as none, lawyer, and doctor tend to give relatively higher ratings, possibly indicating a more lenient or enthusiastic viewer group. On the other hand, programmer and librarian users gave lower average ratings, suggesting they may be more critical or have specific preferences. These differences can inform targeted content recommendations in real-world applications."
   ]
  },
  {
   "cell_type": "markdown",
   "id": "b3510283-402e-4545-9272-ac30b2c5058e",
   "metadata": {},
   "source": [
    "## Question 5: Analyze rating differences by gender\n",
    "We investigate whether there is a significant difference between male and female users in terms of their average movie ratings. We use the rating_user_df DataFrame (which combines rating and user information), and group the data by the gender column to compute the average rating for each gender.\n",
    "\n",
    "### Spark Code:\n",
    "gender_rating_df = rating_user_df.groupBy(\"gender\").avg(\"rating\")\r\n",
    "gender_rating_df = gender_rating_df.withColumnRenamed(\"avg(rating)\", \"avg_rating\")\r\n",
    "gender_rating_df = gender_rating_df.orderBy(\"gender\")\r\n",
    "gender_rating_df.show()"
   ]
  },
  {
   "cell_type": "markdown",
   "id": "eef877bd-ed46-484a-99ef-2c56479e0e95",
   "metadata": {},
   "source": [
    "![Q5 Result](https://raw.githubusercontent.com/loerish/assignment3/main/images_assignment3/q5_result.png)\n",
    "\n",
    "\r\n"
   ]
  },
  {
   "cell_type": "markdown",
   "id": "6bd85cf2-f2f1-472a-a807-a8593a906c77",
   "metadata": {},
   "source": [
    "### Question 5 Result Interpretation\n",
    "The result shows that female users (F) have a slightly higher average rating (≈ 3.5315) compared to male users (M) with an average of ≈ 3.5293. Although the difference is minimal, it may suggest a marginally more generous rating tendency among female users. However, further statistical testing would be needed to confirm whether this difference is significant."
   ]
  },
  {
   "cell_type": "code",
   "execution_count": null,
   "id": "b985be3d-7906-4bfa-8b28-af008b1db3cd",
   "metadata": {},
   "outputs": [],
   "source": []
  },
  {
   "cell_type": "code",
   "execution_count": null,
   "id": "99c63b42-70e3-470e-a56c-a97d5ddc5c62",
   "metadata": {},
   "outputs": [],
   "source": []
  },
  {
   "cell_type": "code",
   "execution_count": null,
   "id": "0dbc03de-aa62-488e-ae67-1fc24b3f97fa",
   "metadata": {},
   "outputs": [],
   "source": []
  }
 ],
 "metadata": {
  "kernelspec": {
   "display_name": "Python 3 (ipykernel)",
   "language": "python",
   "name": "python3"
  },
  "language_info": {
   "codemirror_mode": {
    "name": "ipython",
    "version": 3
   },
   "file_extension": ".py",
   "mimetype": "text/x-python",
   "name": "python",
   "nbconvert_exporter": "python",
   "pygments_lexer": "ipython3",
   "version": "3.12.4"
  }
 },
 "nbformat": 4,
 "nbformat_minor": 5
}
